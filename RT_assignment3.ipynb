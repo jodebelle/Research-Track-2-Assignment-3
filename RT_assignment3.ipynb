{
 "cells": [
  {
   "cell_type": "code",
   "execution_count": 1,
   "id": "c3f30355",
   "metadata": {},
   "outputs": [],
   "source": [
    "%matplotlib inline\n",
    "import numpy as np\n",
    "import matplotlib.pyplot as plt\n",
    "import scipy.stats as stats\n",
    "import math\n",
    "import random"
   ]
  },
  {
   "cell_type": "code",
   "execution_count": 2,
   "id": "7b21a6df",
   "metadata": {},
   "outputs": [],
   "source": [
    "my_time = np.array([114, 113.52, 109.09, 107.62, 104.53, 107.37, 117.28, 133.79, 106.5, 109.02, 108.88, 98.80, 100.96, 107.14, 118.58, 110.55, 114.66])\n",
    "time_colleague = np.array([93.91, 95.97, 96.6, 98.15, 92.3, 113.47, 98.78, 115.12, 98.15, 92.16, 93.05, 92.38, 98.59, 92.47, 113.28, 98.54, 112.43])"
   ]
  },
  {
   "cell_type": "code",
   "execution_count": 3,
   "id": "a9f8cf2e",
   "metadata": {},
   "outputs": [],
   "source": [
    "my_mean = np.mean(my_time)\n",
    "colleague_mean = np.mean(time_colleague)\n",
    "\n",
    "my_std = np.std(my_time)\n",
    "colleague_std = np.std(time_colleague)"
   ]
  },
  {
   "cell_type": "code",
   "execution_count": 4,
   "id": "398dbea3",
   "metadata": {},
   "outputs": [
    {
     "data": {
      "image/png": "[encoded data removed]",
      "text/plain": [
       "<Figure size 640x480 with 1 Axes>"
      ]
     },
     "metadata": {},
     "output_type": "display_data"
    }
   ],
   "source": [
    "my_time = (93.91, 95.97, 96.6, 98.15, 92.3, 113.47, 98.78, 115.12, 98.15, 92.16, 93.05, 92.38, 98.59, 92.47, 113.28, 98.54, 112.43)\n",
    "time_colleague = (114, 113.52, 109.09, 107.62, 104.53, 107.37, 117.28, 133.79, 106.5, 109.02, 108.88, 98.80, 100.96, 107.14, 118.58, 110.55, 114.66)\n",
    "index = np.arange(len(my_time))\n",
    "\n",
    "width = 0.35\n",
    "\n",
    "plt.bar(index, my_time, width, alpha=0.4, color='r', label='Josephine')\n",
    "plt.bar(index + width, time_colleague, width, alpha=0.4, color='b', label='Colleague')\n",
    "\n",
    "plt.xlabel('Readings')\n",
    "plt.ylabel('Time in seconds')\n",
    "plt.title('Comparison of times')\n",
    "plt.xticks(index + width / 2, range(1, len(my_time) + 1))\n",
    "plt.legend()\n",
    "\n",
    "plt.show()"
   ]
  },
  {
   "cell_type": "code",
   "execution_count": 5,
   "id": "ac92571e",
   "metadata": {
    "scrolled": true
   },
   "outputs": [
    {
     "name": "stdout",
     "output_type": "stream",
     "text": [
      "The data is not normally distributed for my sample.\n",
      "P-value = 0.000987845822237432 | Significance level = 0.05\n",
      "--------------------------------------------------------------\n",
      "The data is not normally distributed for the colleague.\n",
      "P-value = 0.048140328377485275 | Significance level = 0.05\n"
     ]
    }
   ],
   "source": [
    "sig_level = 0.05\n",
    "my_stat, my_p_value = stats.shapiro(my_time)\n",
    "stat_colleague, p_colleague = stats.shapiro(time_colleague)\n",
    "\n",
    "if my_p_value > sig_level:\n",
    "    print(\"The data is normally distributed for my sample.\")\n",
    "    print(\"P-value =\", my_p_value, \"| Significance level =\", sig_level)\n",
    "else:\n",
    "    print(\"The data is not normally distributed for my sample.\")\n",
    "    print(\"P-value =\", my_p_value, \"| Significance level =\", sig_level)\n",
    "print(\"--------------------------------------------------------------\")\n",
    "if p_colleague > sig_level:\n",
    "    print(\"The data is normally distributed for the colleague.\")\n",
    "    print(\"P-value =\", p_colleague, \"| Significance level =\", sig_level)\n",
    "else:\n",
    "    print(\"The data is not normally distributed for the colleague.\")\n",
    "    print(\"P-value =\", p_colleague, \"| Significance level =\", sig_level)"
   ]
  },
  {
   "cell_type": "code",
   "execution_count": null,
   "id": "508bd919",
   "metadata": {},
   "outputs": [],
   "source": []
  },
   {
   "cell_type": "code",
   "execution_count": null,
   "id": "2b2154ea",
   "metadata": {},
   "outputs": [],
   "source": []
  },
  {
   "cell_type": "code",
   "execution_count": 6,
   "id": "14432437",
   "metadata": {},
   "outputs": [
    {
     "name": "stdout",
     "output_type": "stream",
     "text": [
      "Relative T-value = -6.321260895301887 | P-value = 1.0163497262539235e-05\n",
      "---------------------------------------------------------------------------\n",
      "Independent T-value = -3.9500011155860695 | P-value = 0.0004029763202838483\n",
      "---------------------------------------------------------------------------\n",
      "The calculated t-value is larger than the table value: 3.9500011155860695 > 2.12\n",
      "This means we can reject the null hypothesis H0.\n"
     ]
    }
   ],
   "source": [
    "# Input variables\n",
    "sample_size = len(my_time)\n",
    "colleague_mean = 110,7229412\n",
    "DoF = sample_size - 1\n",
    "\n",
    "# Perform t-tests\n",
    "t_val_rel, p_val_rel = stats.ttest_rel(my_time, time_colleague)\n",
    "t_val_ind, p_val_ind = stats.ttest_ind(my_time, time_colleague)\n",
    "\n",
    "# Define significance level and table value\n",
    "sig_level = 0.05\n",
    "table_value_16 = 2.12\n",
    "\n",
    "# Print t-values and p-values\n",
    "print(\"Relative T-value =\", t_val_rel, \"| P-value =\", p_val_rel)\n",
    "print(\"---------------------------------------------------------------------------\")\n",
    "print(\"Independent T-value =\", t_val_ind, \"| P-value =\", p_val_ind)\n",
    "print(\"---------------------------------------------------------------------------\")\n",
    "\n",
    "# Compare t-value with table value\n",
    "if abs(t_val_ind) > table_value_16:\n",
    "    print(\"The calculated t-value is larger than the table value:\", end=' ')\n",
    "    print(abs(t_val_ind), \">\", table_value_16) \n",
    "    print(\"This means we can reject the null hypothesis H0.\")\n",
    "else:\n",
    "    print(\"The calculated T-value is smaller than or equal to the table value:\")\n",
    "    print(abs(t_val_ind), \"<=\", table_value_16)\n",
    "    print(\"We do not have enough evidence to reject the null hypothesis H0.\")\n"
   ]
  },
  {
   "cell_type": "code",
   "execution_count": null,
   "id": "4b029959",
   "metadata": {},
   "outputs": [],
   "source": []
  }
 ],
 "metadata": {
  "kernelspec": {
   "display_name": "Python 3 (ipykernel)",
   "language": "python",
   "name": "python3"
  },
  "language_info": {
   "codemirror_mode": {
    "name": "ipython",
    "version": 3
   },
   "file_extension": ".py",
   "mimetype": "text/x-python",
   "name": "python",
   "nbconvert_exporter": "python",
   "pygments_lexer": "ipython3",
   "version": "3.8.10"
  }
 },
 "nbformat": 4,
 "nbformat_minor": 5
}
